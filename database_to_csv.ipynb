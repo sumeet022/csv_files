{
 "cells": [
  {
   "cell_type": "code",
   "execution_count": 11,
   "metadata": {},
   "outputs": [],
   "source": [
    "import mysql.connector as msql\n",
    "from mysql.connector import Error\n",
    "import pandas as pd\n",
    "from sqlalchemy import create_engine\n",
    "import re\n",
    "import os"
   ]
  },
  {
   "cell_type": "code",
   "execution_count": 21,
   "metadata": {},
   "outputs": [
    {
     "name": "stdout",
     "output_type": "stream",
     "text": [
      "Database is created\n"
     ]
    }
   ],
   "source": [
    "try:\n",
    "    conn = msql.connect(host='3.110.5.152',port='3306', user='dbuser',  \n",
    "                        password='fk5%Ht3=OSwx',database = 'mktg_source',auth_plugin='mysql_native_password')\n",
    "    if conn.is_connected():\n",
    "        cursor = conn.cursor()\n",
    "        print(\"Database is created\")\n",
    "except Error as e:\n",
    "        print(\"Error while connecting to MySQL\", e)"
   ]
  },
  {
   "cell_type": "code",
   "execution_count": 26,
   "metadata": {},
   "outputs": [],
   "source": [
    "directory = \"C:/Users/sumeet/Desktop/BRIDGELABZ/bridgeLabz/mktng_database/data_processing\"\n",
    "if not os.path.exists(directory):\n",
    "    os.makedirs(directory)"
   ]
  },
  {
   "cell_type": "code",
   "execution_count": 22,
   "metadata": {},
   "outputs": [],
   "source": [
    "mycursor = conn.cursor()\n",
    "mycursor.execute(\"SHOW TABLES\")\n",
    "tables = mycursor.fetchall()"
   ]
  },
  {
   "cell_type": "code",
   "execution_count": 24,
   "metadata": {},
   "outputs": [],
   "source": [
    "table_names = [table[0] for table in tables]\n",
    "tables_names_2 = table_names[0:2]\n"
   ]
  },
  {
   "cell_type": "code",
   "execution_count": 27,
   "metadata": {},
   "outputs": [
    {
     "data": {
      "text/plain": [
       "['apr2021', 'apr2022']"
      ]
     },
     "execution_count": 27,
     "metadata": {},
     "output_type": "execute_result"
    }
   ],
   "source": [
    "tables_names_2"
   ]
  },
  {
   "cell_type": "code",
   "execution_count": 15,
   "metadata": {},
   "outputs": [],
   "source": [
    "for table in table_names_2:\n",
    "    df = pd.read_sql(\"SELECT * FROM \" + table, con=conn)\n",
    "    df=df.rename(columns={'City':'Location'})\n",
    "    if df['']\n",
    "    columns=['Name', 'Email', 'Mobile Number', 'Qualification', 'Year of Passing',\n",
    "        'Stream','college','% in IT' ,'Gender','Role','Total Exp','Location', 'State',  \n",
    "       'Database Date',  'Database-Year-Month','Source', 'Source Details', 'Funnel','Source Code']\n",
    "    file_name = os.path.join(directory, table + \".csv\")\n",
    "    df.to_csv(file_name, index=False)"
   ]
  },
  {
   "cell_type": "code",
   "execution_count": 20,
   "metadata": {},
   "outputs": [],
   "source": [
    "conn.close()"
   ]
  },
  {
   "cell_type": "code",
   "execution_count": null,
   "metadata": {},
   "outputs": [],
   "source": []
  }
 ],
 "metadata": {
  "kernelspec": {
   "display_name": "Python 3",
   "language": "python",
   "name": "python3"
  },
  "language_info": {
   "codemirror_mode": {
    "name": "ipython",
    "version": 3
   },
   "file_extension": ".py",
   "mimetype": "text/x-python",
   "name": "python",
   "nbconvert_exporter": "python",
   "pygments_lexer": "ipython3",
   "version": "3.8.5"
  }
 },
 "nbformat": 4,
 "nbformat_minor": 4
}
